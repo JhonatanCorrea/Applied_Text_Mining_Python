{
  "nbformat": 4,
  "nbformat_minor": 0,
  "metadata": {
    "colab": {
      "name": "Distrias.ipynb",
      "provenance": [],
      "collapsed_sections": [],
      "include_colab_link": true
    },
    "kernelspec": {
      "name": "python3",
      "display_name": "Python 3"
    },
    "language_info": {
      "name": "python"
    }
  },
  "cells": [
    {
      "cell_type": "markdown",
      "metadata": {
        "id": "view-in-github",
        "colab_type": "text"
      },
      "source": [
        "<a href=\"https://colab.research.google.com/github/JhonatanCorrea/Applied_Text_Mining_Python/blob/master/Distrias.ipynb\" target=\"_parent\"><img src=\"https://colab.research.google.com/assets/colab-badge.svg\" alt=\"Open In Colab\"/></a>"
      ]
    },
    {
      "cell_type": "markdown",
      "metadata": {
        "id": "W1rppZ4NTT0l"
      },
      "source": [
        "Importar las librerias"
      ]
    },
    {
      "cell_type": "code",
      "metadata": {
        "id": "hMXaR5r7ZEP6"
      },
      "source": [
        "import numpy as np # Libreria para arreglos, matrices, vectores (algebra Lineal)\n",
        "import pandas as pd # Libreria para tratamientos de datos (Dataframes), funciones análisis de datos\n",
        "import matplotlib.pyplot as plt # Libreria para visualización\n",
        "import sklearn # Libreria de Machine Learning\n",
        "import seaborn as sns # Libreria para visualización avanzada\n",
        "from sklearn import metrics # Libreria para importar metricas de los modelos\n",
        "from sklearn import preprocessing # Paquete para realizar preprocesamiento de los datos\n",
        "from sklearn.preprocessing import OneHotEncoder # Similar a dummies, es mejor.\n",
        "from sklearn.preprocessing import LabelEncoder # Libreria para codificar etiquetas (Categoricas)"
      ],
      "execution_count": 1,
      "outputs": []
    },
    {
      "cell_type": "code",
      "metadata": {
        "id": "ULyk2JrJVX9k"
      },
      "source": [
        "pd.set_option('display.float_format', str)"
      ],
      "execution_count": 2,
      "outputs": []
    },
    {
      "cell_type": "markdown",
      "metadata": {
        "id": "hwGSFUCXTar1"
      },
      "source": [
        "Extraer de Google Drive, los datos para leer de la empresa"
      ]
    },
    {
      "cell_type": "code",
      "metadata": {
        "colab": {
          "base_uri": "https://localhost:8080/"
        },
        "id": "L6TaXNDiapB5",
        "outputId": "60152608-c857-49c9-b662-67da2d36c699"
      },
      "source": [
        "from google.colab import drive\n",
        "drive.mount('/content/drive')"
      ],
      "execution_count": 3,
      "outputs": [
        {
          "output_type": "stream",
          "name": "stdout",
          "text": [
            "Drive already mounted at /content/drive; to attempt to forcibly remount, call drive.mount(\"/content/drive\", force_remount=True).\n"
          ]
        }
      ]
    },
    {
      "cell_type": "markdown",
      "metadata": {
        "id": "BOOYA6spTmC2"
      },
      "source": [
        "Leer los datos a través de la libreria pandas y se le asigna el nombre de data"
      ]
    },
    {
      "cell_type": "code",
      "metadata": {
        "id": "WhS5EN43iSUY"
      },
      "source": [
        "data = pd.read_excel('/content/drive/MyDrive/Proyecto_Sapiencia/Datos.xlsx')"
      ],
      "execution_count": 4,
      "outputs": []
    },
    {
      "cell_type": "markdown",
      "metadata": {
        "id": "GmRVaO6sUJ4N"
      },
      "source": [
        "Análisis Exploratorio de Datos EDA"
      ]
    },
    {
      "cell_type": "code",
      "metadata": {
        "colab": {
          "base_uri": "https://localhost:8080/",
          "height": 168
        },
        "id": "dRZxD0vVb-9K",
        "outputId": "1d17d28f-b28f-4126-e0ad-0575ede764fa"
      },
      "source": [
        "data.head(1) # Leer el primer registro de la tabla"
      ],
      "execution_count": 5,
      "outputs": [
        {
          "output_type": "execute_result",
          "data": {
            "text/html": [
              "<div>\n",
              "<style scoped>\n",
              "    .dataframe tbody tr th:only-of-type {\n",
              "        vertical-align: middle;\n",
              "    }\n",
              "\n",
              "    .dataframe tbody tr th {\n",
              "        vertical-align: top;\n",
              "    }\n",
              "\n",
              "    .dataframe thead th {\n",
              "        text-align: right;\n",
              "    }\n",
              "</style>\n",
              "<table border=\"1\" class=\"dataframe\">\n",
              "  <thead>\n",
              "    <tr style=\"text-align: right;\">\n",
              "      <th></th>\n",
              "      <th>NOMBRE_DOCUMENTO_MAESTRO</th>\n",
              "      <th>NOMBRE_CONSECUTIVO</th>\n",
              "      <th>TIPO_DOCUMENTO</th>\n",
              "      <th>NUMERO_DOCUMENTO</th>\n",
              "      <th>FECHA_DOCUMENTO</th>\n",
              "      <th>FECHA_VENCIMIENTO</th>\n",
              "      <th>IDENTIFICACION_TERCERO</th>\n",
              "      <th>NOMBRE_TERCERO</th>\n",
              "      <th>ID_CENTRO_COSTO</th>\n",
              "      <th>NOMBRE_CENTRO_COSTO</th>\n",
              "      <th>NOMBRE_CLASIFICACION</th>\n",
              "      <th>ID_PRODUCTO_SERVICIO</th>\n",
              "      <th>PRODUCTO_SERVICIO</th>\n",
              "      <th>CANTIDAD</th>\n",
              "      <th>VALOR_UNITARIO</th>\n",
              "      <th>VALOR_TOTAL</th>\n",
              "      <th>PORCENTAJE_DESCUENTO</th>\n",
              "      <th>VALOR_DESCUENTO</th>\n",
              "      <th>SUBTOTAL</th>\n",
              "      <th>IVA</th>\n",
              "      <th>TOTAL_NETO</th>\n",
              "      <th>UTILIDAD</th>\n",
              "      <th>RENTABILIDAD</th>\n",
              "      <th>COSTO</th>\n",
              "      <th>CEDULA_VENDEDOR</th>\n",
              "      <th>NOMBRE_VENDEDOR</th>\n",
              "      <th>FORMA_DE_PAGO</th>\n",
              "      <th>TIPO</th>\n",
              "      <th>MARCA</th>\n",
              "      <th>LINEA</th>\n",
              "      <th>GRUPO</th>\n",
              "      <th>CLASE</th>\n",
              "      <th>NOMBRE_ESTABLECIMIENTO</th>\n",
              "      <th>ID_USUARIO_CREA</th>\n",
              "      <th>USUARIO_CREA</th>\n",
              "      <th>ID_TERCERO</th>\n",
              "      <th>ID_VENDEDOR</th>\n",
              "    </tr>\n",
              "  </thead>\n",
              "  <tbody>\n",
              "    <tr>\n",
              "      <th>0</th>\n",
              "      <td>FACTURA</td>\n",
              "      <td>FACTURA ELECTRONICA DEV</td>\n",
              "      <td>DEV</td>\n",
              "      <td>3077</td>\n",
              "      <td>2020-01-02</td>\n",
              "      <td>2020-02-01</td>\n",
              "      <td>900247351</td>\n",
              "      <td>ECHEVERRI INVERSIONES CAMEL SOCIEDAD POR ACCIO...</td>\n",
              "      <td>8003</td>\n",
              "      <td>SV VENTAS</td>\n",
              "      <td>GRAVADAS 19</td>\n",
              "      <td>383</td>\n",
              "      <td>SOLDADURA LIQ PVC 1/32</td>\n",
              "      <td>1.0</td>\n",
              "      <td>14321.0</td>\n",
              "      <td>14321.0</td>\n",
              "      <td>40.0</td>\n",
              "      <td>5728.4</td>\n",
              "      <td>8592.6</td>\n",
              "      <td>1633.0</td>\n",
              "      <td>10225.6</td>\n",
              "      <td>3179.6</td>\n",
              "      <td>37.0039</td>\n",
              "      <td>5413.0</td>\n",
              "      <td>6869313.0</td>\n",
              "      <td>ACOSTA SUAREZ EDUARDO</td>\n",
              "      <td>CREDITO</td>\n",
              "      <td>NaN</td>\n",
              "      <td>017-GERFOR</td>\n",
              "      <td>NaN</td>\n",
              "      <td>1023-SOLDADURA PVC CEMENTO SOLVENTE</td>\n",
              "      <td>NaN</td>\n",
              "      <td>NaN</td>\n",
              "      <td>25785971</td>\n",
              "      <td>LEDA YIMARA ARGUMEDO DIAZ</td>\n",
              "      <td>4509</td>\n",
              "      <td>1856</td>\n",
              "    </tr>\n",
              "  </tbody>\n",
              "</table>\n",
              "</div>"
            ],
            "text/plain": [
              "  NOMBRE_DOCUMENTO_MAESTRO       NOMBRE_CONSECUTIVO  ... ID_TERCERO  ID_VENDEDOR\n",
              "0                  FACTURA  FACTURA ELECTRONICA DEV  ...       4509         1856\n",
              "\n",
              "[1 rows x 37 columns]"
            ]
          },
          "metadata": {},
          "execution_count": 5
        }
      ]
    },
    {
      "cell_type": "code",
      "metadata": {
        "id": "CfMufqZFdONS"
      },
      "source": [
        "data.info() # Observar la cantidad de variables y el tipo de variables, con la cantidad de datos nulos"
      ],
      "execution_count": null,
      "outputs": []
    },
    {
      "cell_type": "code",
      "metadata": {
        "id": "WkoeZvhO6rZU"
      },
      "source": [
        "data.describe() # Análisis descriptivo de las variables númericas"
      ],
      "execution_count": null,
      "outputs": []
    },
    {
      "cell_type": "code",
      "metadata": {
        "id": "aP0xsLYB6Jjl"
      },
      "source": [
        "data.describe(include=\"object\") # Aná"
      ],
      "execution_count": null,
      "outputs": []
    },
    {
      "cell_type": "code",
      "metadata": {
        "id": "mMR5vDcie7wH"
      },
      "source": [
        "len(data)"
      ],
      "execution_count": null,
      "outputs": []
    },
    {
      "cell_type": "code",
      "metadata": {
        "id": "vlEBMYc4fEFr"
      },
      "source": [
        "data.shape"
      ],
      "execution_count": null,
      "outputs": []
    },
    {
      "cell_type": "code",
      "metadata": {
        "id": "IONjnO6fjm_X"
      },
      "source": [
        "data.columns"
      ],
      "execution_count": null,
      "outputs": []
    },
    {
      "cell_type": "code",
      "metadata": {
        "id": "C8xVkQrBYKPg"
      },
      "source": [
        "data.columns = data.columns.str.lower()"
      ],
      "execution_count": 12,
      "outputs": []
    },
    {
      "cell_type": "code",
      "metadata": {
        "id": "DCabNOF2dWxl"
      },
      "source": [
        "data.isnull().sum()"
      ],
      "execution_count": null,
      "outputs": []
    },
    {
      "cell_type": "code",
      "metadata": {
        "colab": {
          "base_uri": "https://localhost:8080/"
        },
        "id": "TFunEG0thU5V",
        "outputId": "1714a7b9-4f59-497c-be0d-bb19fda53041"
      },
      "source": [
        "(data.isnull().sum()/len(data))"
      ],
      "execution_count": 14,
      "outputs": [
        {
          "output_type": "execute_result",
          "data": {
            "text/plain": [
              "nombre_documento_maestro                      0.0\n",
              "nombre_consecutivo                            0.0\n",
              "tipo_documento                                0.0\n",
              "numero_documento                              0.0\n",
              "fecha_documento                               0.0\n",
              "fecha_vencimiento                             0.0\n",
              "identificacion_tercero                        0.0\n",
              "nombre_tercero                                0.0\n",
              "id_centro_costo                               0.0\n",
              "nombre_centro_costo                           0.0\n",
              "nombre_clasificacion                          0.0\n",
              "id_producto_servicio                          0.0\n",
              "producto_servicio                             0.0\n",
              "cantidad                                      0.0\n",
              "valor_unitario                                0.0\n",
              "valor_total                                   0.0\n",
              "porcentaje_descuento                          0.0\n",
              "valor_descuento                               0.0\n",
              "subtotal                                      0.0\n",
              "iva                                           0.0\n",
              "total_neto                                    0.0\n",
              "utilidad                   1.7995968902965736e-05\n",
              "rentabilidad               1.7995968902965736e-05\n",
              "costo                      1.7995968902965736e-05\n",
              "cedula_vendedor             0.0008683054995680967\n",
              "nombre_vendedor             0.0008683054995680967\n",
              "forma_de_pago                                 0.0\n",
              "tipo                           0.8457385545637777\n",
              "marca                         0.09541462712352433\n",
              "linea                          0.3599328750359919\n",
              "grupo                         0.02776778001727613\n",
              "clase                         0.32185340483731645\n",
              "nombre_establecimiento         0.7952508638065073\n",
              "id_usuario_crea                               0.0\n",
              "usuario_crea                                  0.0\n",
              "id_tercero                                    0.0\n",
              "id_vendedor                                   0.0\n",
              "dtype: float64"
            ]
          },
          "metadata": {},
          "execution_count": 14
        }
      ]
    },
    {
      "cell_type": "code",
      "metadata": {
        "colab": {
          "base_uri": "https://localhost:8080/"
        },
        "id": "ThaDbiSDgHP2",
        "outputId": "2ebbab53-6704-4126-d026-c9654e11e463"
      },
      "source": [
        "count=0 \n",
        "for i in data.isnull().sum(axis=1): \n",
        "    if i>0: \n",
        "        count=count+1 \n",
        "print('Total number of rows with missing values is ', count) \n",
        "print('since it',round((count/len(data.index))*100), 'percent of the entire dataset the rows with missing values are excluded.') "
      ],
      "execution_count": 15,
      "outputs": [
        {
          "output_type": "stream",
          "name": "stdout",
          "text": [
            "Total number of rows with missing values is  213363\n",
            "since it 96 percent of the entire dataset the rows with missing values are excluded.\n"
          ]
        }
      ]
    },
    {
      "cell_type": "code",
      "metadata": {
        "colab": {
          "base_uri": "https://localhost:8080/"
        },
        "id": "PJlQcJDrg9lc",
        "outputId": "e098d39d-cfcd-4cfd-a8bf-86b7c4edd12a"
      },
      "source": [
        "len(data)-count"
      ],
      "execution_count": 16,
      "outputs": [
        {
          "output_type": "execute_result",
          "data": {
            "text/plain": [
              "8909"
            ]
          },
          "metadata": {},
          "execution_count": 16
        }
      ]
    },
    {
      "cell_type": "code",
      "metadata": {
        "id": "5C45u4Tqgu-k"
      },
      "source": [
        "data.drop(['tipo','marca','linea','clase','nombre_establecimiento'],axis=1,inplace=True) # Borramos varias variables del dataframe"
      ],
      "execution_count": 17,
      "outputs": []
    },
    {
      "cell_type": "code",
      "metadata": {
        "colab": {
          "base_uri": "https://localhost:8080/"
        },
        "id": "pMHhSsvqi1g5",
        "outputId": "581c140c-5475-4dc0-c0d4-7ff9da606680"
      },
      "source": [
        "pd.value_counts(data[\"grupo\"])"
      ],
      "execution_count": 18,
      "outputs": [
        {
          "output_type": "execute_result",
          "data": {
            "text/plain": [
              "G001-DECORATIVO                              17250\n",
              "6401-CEMENTO GRIS                            15143\n",
              "1601-VARILLAS CORRUGADAS X 6 MTS             14875\n",
              "1007-ACCESORIOS PRESION LISO-ROSCADO         14520\n",
              "1009-ACCESORIOS SANITARIO - VENTILACION      11790\n",
              "                                             ...  \n",
              "3017-ACCESORIOS DE HIERR. CANALETA               1\n",
              "3038-TEJA OND P 7 PLUS                           1\n",
              "4001-BEBEDEROS COLEMPAQUES                       1\n",
              "6102-VALVULA DE BOLA TIPO PESADO SUPERIOR        1\n",
              "0602-LLANTA Y NEUMATICO IMSA                     1\n",
              "Name: grupo, Length: 489, dtype: int64"
            ]
          },
          "metadata": {},
          "execution_count": 18
        }
      ]
    },
    {
      "cell_type": "code",
      "metadata": {
        "id": "0bOO5fBCtMIV"
      },
      "source": [
        "data.sort_values('fecha_documento',ascending=True,inplace=True)"
      ],
      "execution_count": 19,
      "outputs": []
    },
    {
      "cell_type": "code",
      "metadata": {
        "colab": {
          "base_uri": "https://localhost:8080/",
          "height": 414
        },
        "id": "oJ4muwKv-pR_",
        "outputId": "212253ef-9938-4011-bd40-0e0fea0fc6e7"
      },
      "source": [
        "data[data['rentabilidad'].isna()]"
      ],
      "execution_count": 20,
      "outputs": [
        {
          "output_type": "execute_result",
          "data": {
            "text/html": [
              "<div>\n",
              "<style scoped>\n",
              "    .dataframe tbody tr th:only-of-type {\n",
              "        vertical-align: middle;\n",
              "    }\n",
              "\n",
              "    .dataframe tbody tr th {\n",
              "        vertical-align: top;\n",
              "    }\n",
              "\n",
              "    .dataframe thead th {\n",
              "        text-align: right;\n",
              "    }\n",
              "</style>\n",
              "<table border=\"1\" class=\"dataframe\">\n",
              "  <thead>\n",
              "    <tr style=\"text-align: right;\">\n",
              "      <th></th>\n",
              "      <th>nombre_documento_maestro</th>\n",
              "      <th>nombre_consecutivo</th>\n",
              "      <th>tipo_documento</th>\n",
              "      <th>numero_documento</th>\n",
              "      <th>fecha_documento</th>\n",
              "      <th>fecha_vencimiento</th>\n",
              "      <th>identificacion_tercero</th>\n",
              "      <th>nombre_tercero</th>\n",
              "      <th>id_centro_costo</th>\n",
              "      <th>nombre_centro_costo</th>\n",
              "      <th>nombre_clasificacion</th>\n",
              "      <th>id_producto_servicio</th>\n",
              "      <th>producto_servicio</th>\n",
              "      <th>cantidad</th>\n",
              "      <th>valor_unitario</th>\n",
              "      <th>valor_total</th>\n",
              "      <th>porcentaje_descuento</th>\n",
              "      <th>valor_descuento</th>\n",
              "      <th>subtotal</th>\n",
              "      <th>iva</th>\n",
              "      <th>total_neto</th>\n",
              "      <th>utilidad</th>\n",
              "      <th>rentabilidad</th>\n",
              "      <th>costo</th>\n",
              "      <th>cedula_vendedor</th>\n",
              "      <th>nombre_vendedor</th>\n",
              "      <th>forma_de_pago</th>\n",
              "      <th>grupo</th>\n",
              "      <th>id_usuario_crea</th>\n",
              "      <th>usuario_crea</th>\n",
              "      <th>id_tercero</th>\n",
              "      <th>id_vendedor</th>\n",
              "    </tr>\n",
              "  </thead>\n",
              "  <tbody>\n",
              "    <tr>\n",
              "      <th>45716</th>\n",
              "      <td>NOTA CREDITO</td>\n",
              "      <td>NOTA CREDITO ELECTRONICA VP</td>\n",
              "      <td>NCEVP</td>\n",
              "      <td>972</td>\n",
              "      <td>2020-06-03</td>\n",
              "      <td>2020-06-03</td>\n",
              "      <td>6890502</td>\n",
              "      <td>COMAS COVO ARTURO RAMON</td>\n",
              "      <td>0</td>\n",
              "      <td>VARIOS</td>\n",
              "      <td>GRAVADAS 19</td>\n",
              "      <td>3362</td>\n",
              "      <td>MEGAPACK REGISTRO DUCHA BOLA 1/2\" TREVO X 4</td>\n",
              "      <td>1.0</td>\n",
              "      <td>127395.0</td>\n",
              "      <td>-127395.0</td>\n",
              "      <td>-20.0</td>\n",
              "      <td>-25479.0</td>\n",
              "      <td>-101916.0</td>\n",
              "      <td>-19364.04</td>\n",
              "      <td>-121280.04</td>\n",
              "      <td>nan</td>\n",
              "      <td>nan</td>\n",
              "      <td>nan</td>\n",
              "      <td>73191184.0</td>\n",
              "      <td>MARTINEZ CASTILLA CRISTIAN YESID</td>\n",
              "      <td>CONTADO</td>\n",
              "      <td>1018-MEGAPACK</td>\n",
              "      <td>1067946826</td>\n",
              "      <td>LUIZ MANUEL PEREZ GALVIS</td>\n",
              "      <td>4090</td>\n",
              "      <td>2715</td>\n",
              "    </tr>\n",
              "    <tr>\n",
              "      <th>77356</th>\n",
              "      <td>NOTA CREDITO</td>\n",
              "      <td>NOTA CREDITO ELECTRONICA VP</td>\n",
              "      <td>NCEVP</td>\n",
              "      <td>1610</td>\n",
              "      <td>2020-09-07</td>\n",
              "      <td>2020-09-07</td>\n",
              "      <td>812008463</td>\n",
              "      <td>CASA ELEGANTE LTDA</td>\n",
              "      <td>8003</td>\n",
              "      <td>SV VENTAS</td>\n",
              "      <td>GRAVADAS 19</td>\n",
              "      <td>7055002</td>\n",
              "      <td>ECO PRIM GRIP BALDE X 5 KG</td>\n",
              "      <td>1.0</td>\n",
              "      <td>69950.0</td>\n",
              "      <td>-69950.0</td>\n",
              "      <td>-5.0</td>\n",
              "      <td>-3497.5</td>\n",
              "      <td>-66452.5</td>\n",
              "      <td>-12625.975</td>\n",
              "      <td>-79078.475</td>\n",
              "      <td>nan</td>\n",
              "      <td>nan</td>\n",
              "      <td>nan</td>\n",
              "      <td>6869313.0</td>\n",
              "      <td>ACOSTA SUAREZ EDUARDO</td>\n",
              "      <td>CONTADO</td>\n",
              "      <td>7055-PUENTE DE ADHERENCIA PARA CERÁMICA</td>\n",
              "      <td>1067946826</td>\n",
              "      <td>LUIZ MANUEL PEREZ GALVIS</td>\n",
              "      <td>4083</td>\n",
              "      <td>1856</td>\n",
              "    </tr>\n",
              "    <tr>\n",
              "      <th>88469</th>\n",
              "      <td>NOTA CREDITO</td>\n",
              "      <td>NOTA CREDITO ELECTRONICA VP</td>\n",
              "      <td>NCEVP</td>\n",
              "      <td>1819</td>\n",
              "      <td>2020-10-01</td>\n",
              "      <td>2020-10-01</td>\n",
              "      <td>901324811</td>\n",
              "      <td>CONSORCIO ESCENARIOS DEPORTIVOS 2019</td>\n",
              "      <td>0</td>\n",
              "      <td>VARIOS</td>\n",
              "      <td>GRAVADAS 19</td>\n",
              "      <td>9006076</td>\n",
              "      <td>VALVULA 1 1/2 DESCARGA PARA SANITARIOS</td>\n",
              "      <td>7.0</td>\n",
              "      <td>190700.0</td>\n",
              "      <td>-1334900.0</td>\n",
              "      <td>0.0</td>\n",
              "      <td>0.0</td>\n",
              "      <td>-1334900.0</td>\n",
              "      <td>-253631.0</td>\n",
              "      <td>-1588531.0</td>\n",
              "      <td>nan</td>\n",
              "      <td>nan</td>\n",
              "      <td>nan</td>\n",
              "      <td>6869313.0</td>\n",
              "      <td>ACOSTA SUAREZ EDUARDO</td>\n",
              "      <td>CONTADO</td>\n",
              "      <td>NaN</td>\n",
              "      <td>1067946826</td>\n",
              "      <td>LUIZ MANUEL PEREZ GALVIS</td>\n",
              "      <td>17873</td>\n",
              "      <td>1856</td>\n",
              "    </tr>\n",
              "    <tr>\n",
              "      <th>125137</th>\n",
              "      <td>NOTA CREDITO</td>\n",
              "      <td>NOTA CREDITO ELECTRONICA VP</td>\n",
              "      <td>NCEVP</td>\n",
              "      <td>2540</td>\n",
              "      <td>2020-12-10</td>\n",
              "      <td>2020-12-10</td>\n",
              "      <td>901232082</td>\n",
              "      <td>CONSORCIO ABIEL</td>\n",
              "      <td>8003</td>\n",
              "      <td>SV VENTAS</td>\n",
              "      <td>GRAVADAS 19</td>\n",
              "      <td>3671</td>\n",
              "      <td>PALUSTRE ALBAÑ PHILADEL 9\" M/M</td>\n",
              "      <td>2.0</td>\n",
              "      <td>4598.0</td>\n",
              "      <td>-9196.0</td>\n",
              "      <td>0.0</td>\n",
              "      <td>0.0</td>\n",
              "      <td>-9196.0</td>\n",
              "      <td>-1747.24</td>\n",
              "      <td>-10943.24</td>\n",
              "      <td>nan</td>\n",
              "      <td>nan</td>\n",
              "      <td>nan</td>\n",
              "      <td>6869313.0</td>\n",
              "      <td>ACOSTA SUAREZ EDUARDO</td>\n",
              "      <td>CONTADO</td>\n",
              "      <td>3251-PALUSTRE</td>\n",
              "      <td>1067946826</td>\n",
              "      <td>LUIZ MANUEL PEREZ GALVIS</td>\n",
              "      <td>23843</td>\n",
              "      <td>1856</td>\n",
              "    </tr>\n",
              "  </tbody>\n",
              "</table>\n",
              "</div>"
            ],
            "text/plain": [
              "       nombre_documento_maestro  ... id_vendedor\n",
              "45716              NOTA CREDITO  ...        2715\n",
              "77356              NOTA CREDITO  ...        1856\n",
              "88469              NOTA CREDITO  ...        1856\n",
              "125137             NOTA CREDITO  ...        1856\n",
              "\n",
              "[4 rows x 32 columns]"
            ]
          },
          "metadata": {},
          "execution_count": 20
        }
      ]
    },
    {
      "cell_type": "code",
      "metadata": {
        "id": "Pzi26f8_UgKF"
      },
      "source": [
        "### data_final = data[[\"fecha_documento\",\"rentabilidad\",'cantidad']] "
      ],
      "execution_count": 21,
      "outputs": []
    },
    {
      "cell_type": "code",
      "metadata": {
        "id": "NSg99wC6Y3RV"
      },
      "source": [
        "data['rentabilidad'] = data['rentabilidad'].astype(str).str.replace('.', '.')"
      ],
      "execution_count": 25,
      "outputs": []
    },
    {
      "cell_type": "code",
      "metadata": {
        "id": "FKnWOZepaG_c"
      },
      "source": [
        "data['rentabilidad']=data['rentabilidad'].astype('float')"
      ],
      "execution_count": null,
      "outputs": []
    },
    {
      "cell_type": "code",
      "metadata": {
        "id": "6MxKfLcSAhjY"
      },
      "source": [
        "data[['producto_servicio', 'rentabilidad','cantidad']].groupby(['producto_servicio'], as_index=False).sum().sort_values(by='rentabilidad', ascending=False)"
      ],
      "execution_count": null,
      "outputs": []
    },
    {
      "cell_type": "code",
      "metadata": {
        "id": "VUyI4LwRQqc7"
      },
      "source": [
        "### data.groupby('PRODUCTO_SERVICIO').agg({'RENTABILIDAD':'sum','CANTIDAD':'sum'}) # Agrupación"
      ],
      "execution_count": null,
      "outputs": []
    },
    {
      "cell_type": "code",
      "metadata": {
        "id": "wtAJTLwuqH6C"
      },
      "source": [
        "data[['producto_servicio', 'rentabilidad','cantidad']].groupby(['producto_servicio'], as_index=False).sum().sort_values(by='rentabilidad', ascending=False).tail(10)"
      ],
      "execution_count": null,
      "outputs": []
    },
    {
      "cell_type": "code",
      "metadata": {
        "id": "mOVeqUg-qes6"
      },
      "source": [
        "data[data['rentabilidad'] < 0]"
      ],
      "execution_count": null,
      "outputs": []
    }
  ]
}