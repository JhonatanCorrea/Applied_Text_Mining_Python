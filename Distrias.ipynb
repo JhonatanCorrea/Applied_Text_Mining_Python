{
  "nbformat": 4,
  "nbformat_minor": 0,
  "metadata": {
    "colab": {
      "name": "Distrias.ipynb",
      "provenance": [],
      "collapsed_sections": [],
      "include_colab_link": true
    },
    "kernelspec": {
      "name": "python3",
      "display_name": "Python 3"
    },
    "language_info": {
      "name": "python"
    }
  },
  "cells": [
    {
      "cell_type": "markdown",
      "metadata": {
        "id": "view-in-github",
        "colab_type": "text"
      },
      "source": [
        "<a href=\"https://colab.research.google.com/github/JhonatanCorrea/Applied_Text_Mining_Python/blob/master/Distrias.ipynb\" target=\"_parent\"><img src=\"https://colab.research.google.com/assets/colab-badge.svg\" alt=\"Open In Colab\"/></a>"
      ]
    },
    {
      "cell_type": "code",
      "metadata": {
        "id": "hMXaR5r7ZEP6"
      },
      "source": [
        "import numpy as np # Libreria para arreglos, matrices, vectores (algebra Lineal)\n",
        "import pandas as pd # Libreria para tratamientos de datos (Dataframes), funciones análisis de datos\n",
        "import matplotlib.pyplot as plt # Libreria para visualización\n",
        "import sklearn # Libreria de Machine Learning\n",
        "import seaborn as sns # Libreria para visualización avanzada\n",
        "from sklearn import metrics # Libreria para importar metricas de los modelos\n",
        "from sklearn import preprocessing # Paquete para realizar preprocesamiento de los datos\n",
        "from sklearn.preprocessing import OneHotEncoder # Similar a dummies, es mejor.\n",
        "from sklearn.preprocessing import LabelEncoder # Libreria para codificar etiquetas (Categoricas)"
      ],
      "execution_count": 8,
      "outputs": []
    },
    {
      "cell_type": "code",
      "metadata": {
        "colab": {
          "base_uri": "https://localhost:8080/"
        },
        "id": "L6TaXNDiapB5",
        "outputId": "d9bbc183-052d-477c-8b4f-0b1bebfeb861"
      },
      "source": [
        "from google.colab import drive\n",
        "drive.mount('/content/drive')"
      ],
      "execution_count": 2,
      "outputs": [
        {
          "output_type": "stream",
          "name": "stdout",
          "text": [
            "Mounted at /content/drive\n"
          ]
        }
      ]
    },
    {
      "cell_type": "code",
      "metadata": {
        "id": "WhS5EN43iSUY"
      },
      "source": [
        "data = pd.read_excel('/content/drive/MyDrive/Proyecto_Sapiencia/Datos.xlsx')"
      ],
      "execution_count": 3,
      "outputs": []
    },
    {
      "cell_type": "code",
      "metadata": {
        "id": "dRZxD0vVb-9K"
      },
      "source": [
        "data.head(1)"
      ],
      "execution_count": null,
      "outputs": []
    },
    {
      "cell_type": "code",
      "metadata": {
        "id": "CfMufqZFdONS"
      },
      "source": [
        "data.info()"
      ],
      "execution_count": null,
      "outputs": []
    },
    {
      "cell_type": "code",
      "metadata": {
        "id": "mMR5vDcie7wH"
      },
      "source": [
        "len(data)"
      ],
      "execution_count": null,
      "outputs": []
    },
    {
      "cell_type": "code",
      "metadata": {
        "id": "vlEBMYc4fEFr"
      },
      "source": [
        "data.shape"
      ],
      "execution_count": null,
      "outputs": []
    },
    {
      "cell_type": "code",
      "metadata": {
        "id": "IONjnO6fjm_X"
      },
      "source": [
        "data.columns "
      ],
      "execution_count": null,
      "outputs": []
    },
    {
      "cell_type": "code",
      "metadata": {
        "id": "DCabNOF2dWxl"
      },
      "source": [
        "data.isnull().sum()"
      ],
      "execution_count": null,
      "outputs": []
    },
    {
      "cell_type": "code",
      "metadata": {
        "id": "TFunEG0thU5V"
      },
      "source": [
        "(data.isnull().sum()/len(data))"
      ],
      "execution_count": null,
      "outputs": []
    },
    {
      "cell_type": "code",
      "metadata": {
        "colab": {
          "base_uri": "https://localhost:8080/"
        },
        "id": "ThaDbiSDgHP2",
        "outputId": "5b4459e1-ca8d-42be-eed6-ec2130451c64"
      },
      "source": [
        "count=0 \n",
        "for i in data.isnull().sum(axis=1): \n",
        "    if i>0: \n",
        "        count=count+1 \n",
        "print('Total number of rows with missing values is ', count) \n",
        "print('since it',round((count/len(data.index))*100), 'percent of the entire dataset the rows with missing values are excluded.') "
      ],
      "execution_count": 12,
      "outputs": [
        {
          "output_type": "stream",
          "name": "stdout",
          "text": [
            "Total number of rows with missing values is  213363\n",
            "since it 96 percent of the entire dataset the rows with missing values are excluded.\n"
          ]
        }
      ]
    },
    {
      "cell_type": "code",
      "metadata": {
        "id": "PJlQcJDrg9lc"
      },
      "source": [
        "len(data)-count"
      ],
      "execution_count": null,
      "outputs": []
    },
    {
      "cell_type": "code",
      "metadata": {
        "id": "5C45u4Tqgu-k"
      },
      "source": [
        "data.drop(['TIPO','MARCA','LINEA','CLASE','NOMBRE_ESTABLECIMIENTO'],axis=1,inplace=True) # Borramos varias variables del dataframe"
      ],
      "execution_count": 19,
      "outputs": []
    },
    {
      "cell_type": "code",
      "metadata": {
        "id": "pMHhSsvqi1g5"
      },
      "source": [
        "pd.value_counts(data[\"GRUPO\"])"
      ],
      "execution_count": null,
      "outputs": []
    },
    {
      "cell_type": "code",
      "metadata": {
        "id": "0bOO5fBCtMIV"
      },
      "source": [
        "data.sort_values('FECHA_DOCUMENTO',ascending=True,inplace=True)"
      ],
      "execution_count": 37,
      "outputs": []
    }
  ]
}