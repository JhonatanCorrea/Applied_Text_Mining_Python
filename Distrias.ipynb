{
  "nbformat": 4,
  "nbformat_minor": 0,
  "metadata": {
    "colab": {
      "name": "Distrias.ipynb",
      "provenance": [],
      "collapsed_sections": [],
      "include_colab_link": true
    },
    "kernelspec": {
      "name": "python3",
      "display_name": "Python 3"
    },
    "language_info": {
      "name": "python"
    }
  },
  "cells": [
    {
      "cell_type": "markdown",
      "metadata": {
        "id": "view-in-github",
        "colab_type": "text"
      },
      "source": [
        "<a href=\"https://colab.research.google.com/github/JhonatanCorrea/Applied_Text_Mining_Python/blob/master/Distrias.ipynb\" target=\"_parent\"><img src=\"https://colab.research.google.com/assets/colab-badge.svg\" alt=\"Open In Colab\"/></a>"
      ]
    },
    {
      "cell_type": "code",
      "metadata": {
        "id": "hMXaR5r7ZEP6"
      },
      "source": [
        "import numpy as np # Libreria para arreglos, matrices, vectores (algebra Lineal)\n",
        "import pandas as pd # Libreria para tratamientos de datos (Dataframes), funciones análisis de datos\n",
        "import matplotlib.pyplot as plt # Libreria para visualización\n",
        "import sklearn # Libreria de Machine Learning\n",
        "import seaborn as sns # Libreria para visualización avanzada\n",
        "from sklearn import metrics # Libreria para importar metricas de los modelos\n",
        "from sklearn import preprocessing # Paquete para realizar preprocesamiento de los datos\n",
        "from sklearn.preprocessing import OneHotEncoder # Similar a dummies, es mejor.\n",
        "from sklearn.preprocessing import LabelEncoder # Libreria para codificar etiquetas (Categoricas)"
      ],
      "execution_count": 8,
      "outputs": []
    },
    {
      "cell_type": "code",
      "metadata": {
        "colab": {
          "base_uri": "https://localhost:8080/"
        },
        "id": "L6TaXNDiapB5",
        "outputId": "d9bbc183-052d-477c-8b4f-0b1bebfeb861"
      },
      "source": [
        "from google.colab import drive\n",
        "drive.mount('/content/drive')"
      ],
      "execution_count": 2,
      "outputs": [
        {
          "output_type": "stream",
          "name": "stdout",
          "text": [
            "Mounted at /content/drive\n"
          ]
        }
      ]
    },
    {
      "cell_type": "code",
      "metadata": {
        "id": "WhS5EN43iSUY"
      },
      "source": [
        "data = pd.read_excel('/content/drive/MyDrive/Proyecto_Sapiencia/Datos.xlsx')"
      ],
      "execution_count": 3,
      "outputs": []
    },
    {
      "cell_type": "code",
      "metadata": {
        "colab": {
          "base_uri": "https://localhost:8080/",
          "height": 168
        },
        "id": "dRZxD0vVb-9K",
        "outputId": "8447fc1b-e131-41d4-86a5-cc63d9d9a507"
      },
      "source": [
        "data.head(1)"
      ],
      "execution_count": 5,
      "outputs": [
        {
          "output_type": "execute_result",
          "data": {
            "text/html": [
              "<div>\n",
              "<style scoped>\n",
              "    .dataframe tbody tr th:only-of-type {\n",
              "        vertical-align: middle;\n",
              "    }\n",
              "\n",
              "    .dataframe tbody tr th {\n",
              "        vertical-align: top;\n",
              "    }\n",
              "\n",
              "    .dataframe thead th {\n",
              "        text-align: right;\n",
              "    }\n",
              "</style>\n",
              "<table border=\"1\" class=\"dataframe\">\n",
              "  <thead>\n",
              "    <tr style=\"text-align: right;\">\n",
              "      <th></th>\n",
              "      <th>NOMBRE_DOCUMENTO_MAESTRO</th>\n",
              "      <th>NOMBRE_CONSECUTIVO</th>\n",
              "      <th>TIPO_DOCUMENTO</th>\n",
              "      <th>NUMERO_DOCUMENTO</th>\n",
              "      <th>FECHA_DOCUMENTO</th>\n",
              "      <th>FECHA_VENCIMIENTO</th>\n",
              "      <th>IDENTIFICACION_TERCERO</th>\n",
              "      <th>NOMBRE_TERCERO</th>\n",
              "      <th>ID_CENTRO_COSTO</th>\n",
              "      <th>NOMBRE_CENTRO_COSTO</th>\n",
              "      <th>NOMBRE_CLASIFICACION</th>\n",
              "      <th>ID_PRODUCTO_SERVICIO</th>\n",
              "      <th>PRODUCTO_SERVICIO</th>\n",
              "      <th>CANTIDAD</th>\n",
              "      <th>VALOR_UNITARIO</th>\n",
              "      <th>VALOR_TOTAL</th>\n",
              "      <th>PORCENTAJE_DESCUENTO</th>\n",
              "      <th>VALOR_DESCUENTO</th>\n",
              "      <th>SUBTOTAL</th>\n",
              "      <th>IVA</th>\n",
              "      <th>TOTAL_NETO</th>\n",
              "      <th>UTILIDAD</th>\n",
              "      <th>RENTABILIDAD</th>\n",
              "      <th>COSTO</th>\n",
              "      <th>CEDULA_VENDEDOR</th>\n",
              "      <th>NOMBRE_VENDEDOR</th>\n",
              "      <th>FORMA_DE_PAGO</th>\n",
              "      <th>TIPO</th>\n",
              "      <th>MARCA</th>\n",
              "      <th>LINEA</th>\n",
              "      <th>GRUPO</th>\n",
              "      <th>CLASE</th>\n",
              "      <th>NOMBRE_ESTABLECIMIENTO</th>\n",
              "      <th>ID_USUARIO_CREA</th>\n",
              "      <th>USUARIO_CREA</th>\n",
              "      <th>ID_TERCERO</th>\n",
              "      <th>ID_VENDEDOR</th>\n",
              "    </tr>\n",
              "  </thead>\n",
              "  <tbody>\n",
              "    <tr>\n",
              "      <th>0</th>\n",
              "      <td>FACTURA</td>\n",
              "      <td>FACTURA ELECTRONICA DEV</td>\n",
              "      <td>DEV</td>\n",
              "      <td>3077</td>\n",
              "      <td>2020-01-02</td>\n",
              "      <td>2020-02-01</td>\n",
              "      <td>900247351</td>\n",
              "      <td>ECHEVERRI INVERSIONES CAMEL SOCIEDAD POR ACCIO...</td>\n",
              "      <td>8003</td>\n",
              "      <td>SV VENTAS</td>\n",
              "      <td>GRAVADAS 19</td>\n",
              "      <td>383</td>\n",
              "      <td>SOLDADURA LIQ PVC 1/32</td>\n",
              "      <td>1.0</td>\n",
              "      <td>14321.0</td>\n",
              "      <td>14321.0</td>\n",
              "      <td>40.0</td>\n",
              "      <td>5728.4</td>\n",
              "      <td>8592.6</td>\n",
              "      <td>1633.0</td>\n",
              "      <td>10225.6</td>\n",
              "      <td>3179.6</td>\n",
              "      <td>37.0039</td>\n",
              "      <td>5413.0</td>\n",
              "      <td>6869313.0</td>\n",
              "      <td>ACOSTA SUAREZ EDUARDO</td>\n",
              "      <td>CREDITO</td>\n",
              "      <td>NaN</td>\n",
              "      <td>017-GERFOR</td>\n",
              "      <td>NaN</td>\n",
              "      <td>1023-SOLDADURA PVC CEMENTO SOLVENTE</td>\n",
              "      <td>NaN</td>\n",
              "      <td>NaN</td>\n",
              "      <td>25785971</td>\n",
              "      <td>LEDA YIMARA ARGUMEDO DIAZ</td>\n",
              "      <td>4509</td>\n",
              "      <td>1856</td>\n",
              "    </tr>\n",
              "  </tbody>\n",
              "</table>\n",
              "</div>"
            ],
            "text/plain": [
              "  NOMBRE_DOCUMENTO_MAESTRO       NOMBRE_CONSECUTIVO  ... ID_TERCERO  ID_VENDEDOR\n",
              "0                  FACTURA  FACTURA ELECTRONICA DEV  ...       4509         1856\n",
              "\n",
              "[1 rows x 37 columns]"
            ]
          },
          "metadata": {},
          "execution_count": 5
        }
      ]
    },
    {
      "cell_type": "code",
      "metadata": {
        "id": "CfMufqZFdONS"
      },
      "source": [
        "data.info()"
      ],
      "execution_count": null,
      "outputs": []
    },
    {
      "cell_type": "code",
      "metadata": {
        "colab": {
          "base_uri": "https://localhost:8080/"
        },
        "id": "DCabNOF2dWxl",
        "outputId": "248883d4-b8e5-456d-875d-b46222cd8579"
      },
      "source": [
        "data.isnull().sum()"
      ],
      "execution_count": 7,
      "outputs": [
        {
          "output_type": "execute_result",
          "data": {
            "text/plain": [
              "NOMBRE_DOCUMENTO_MAESTRO         0\n",
              "NOMBRE_CONSECUTIVO               0\n",
              "TIPO_DOCUMENTO                   0\n",
              "NUMERO_DOCUMENTO                 0\n",
              "FECHA_DOCUMENTO                  0\n",
              "FECHA_VENCIMIENTO                0\n",
              "IDENTIFICACION_TERCERO           0\n",
              "NOMBRE_TERCERO                   0\n",
              "ID_CENTRO_COSTO                  0\n",
              "NOMBRE_CENTRO_COSTO              0\n",
              "NOMBRE_CLASIFICACION             0\n",
              "ID_PRODUCTO_SERVICIO             0\n",
              "PRODUCTO_SERVICIO                0\n",
              "CANTIDAD                         0\n",
              "VALOR_UNITARIO                   0\n",
              "VALOR_TOTAL                      0\n",
              "PORCENTAJE_DESCUENTO             0\n",
              "VALOR_DESCUENTO                  0\n",
              "SUBTOTAL                         0\n",
              "IVA                              0\n",
              "TOTAL_NETO                       0\n",
              "UTILIDAD                         4\n",
              "RENTABILIDAD                     4\n",
              "COSTO                            4\n",
              "CEDULA_VENDEDOR                193\n",
              "NOMBRE_VENDEDOR                193\n",
              "FORMA_DE_PAGO                    0\n",
              "TIPO                        187984\n",
              "MARCA                        21208\n",
              "LINEA                        80003\n",
              "GRUPO                         6172\n",
              "CLASE                        71539\n",
              "NOMBRE_ESTABLECIMIENTO      176762\n",
              "ID_USUARIO_CREA                  0\n",
              "USUARIO_CREA                     0\n",
              "ID_TERCERO                       0\n",
              "ID_VENDEDOR                      0\n",
              "dtype: int64"
            ]
          },
          "metadata": {},
          "execution_count": 7
        }
      ]
    }
  ]
}