{
  "nbformat": 4,
  "nbformat_minor": 0,
  "metadata": {
    "colab": {
      "name": "Distrias.ipynb",
      "provenance": [],
      "collapsed_sections": [],
      "include_colab_link": true
    },
    "kernelspec": {
      "name": "python3",
      "display_name": "Python 3"
    },
    "language_info": {
      "name": "python"
    }
  },
  "cells": [
    {
      "cell_type": "markdown",
      "metadata": {
        "id": "view-in-github",
        "colab_type": "text"
      },
      "source": [
        "<a href=\"https://colab.research.google.com/github/JhonatanCorrea/Applied_Text_Mining_Python/blob/master/Distrias.ipynb\" target=\"_parent\"><img src=\"https://colab.research.google.com/assets/colab-badge.svg\" alt=\"Open In Colab\"/></a>"
      ]
    },
    {
      "cell_type": "code",
      "metadata": {
        "id": "hMXaR5r7ZEP6"
      },
      "source": [
        "import numpy as np # Libreria para arreglos, matrices, vectores (algebra Lineal)\n",
        "import pandas as pd # Libreria para tratamientos de datos (Dataframes), funciones análisis de datos\n",
        "import matplotlib.pyplot as plt # Libreria para visualización\n",
        "import sklearn # Libreria de Machine Learning\n",
        "import seaborn as sns # Libreria para visualización avanzada\n",
        "from sklearn import metrics # Libreria para importar metricas de los modelos\n",
        "from sklearn import preprocessing # Paquete para realizar preprocesamiento de los datos\n",
        "from sklearn.preprocessing import OneHotEncoder # Similar a dummies, es mejor.\n",
        "from sklearn.preprocessing import LabelEncoder # Libreria para codificar etiquetas (Categoricas)"
      ],
      "execution_count": 8,
      "outputs": []
    },
    {
      "cell_type": "code",
      "metadata": {
        "colab": {
          "base_uri": "https://localhost:8080/"
        },
        "id": "L6TaXNDiapB5",
        "outputId": "d9bbc183-052d-477c-8b4f-0b1bebfeb861"
      },
      "source": [
        "from google.colab import drive\n",
        "drive.mount('/content/drive')"
      ],
      "execution_count": 2,
      "outputs": [
        {
          "output_type": "stream",
          "name": "stdout",
          "text": [
            "Mounted at /content/drive\n"
          ]
        }
      ]
    },
    {
      "cell_type": "code",
      "metadata": {
        "id": "WhS5EN43iSUY"
      },
      "source": [
        "data = pd.read_excel('/content/drive/MyDrive/Proyecto_Sapiencia/Datos.xlsx')"
      ],
      "execution_count": 3,
      "outputs": []
    },
    {
      "cell_type": "code",
      "metadata": {
        "id": "dRZxD0vVb-9K"
      },
      "source": [
        "data.head(1)"
      ],
      "execution_count": null,
      "outputs": []
    },
    {
      "cell_type": "code",
      "metadata": {
        "id": "CfMufqZFdONS"
      },
      "source": [
        "data.info()"
      ],
      "execution_count": null,
      "outputs": []
    },
    {
      "cell_type": "code",
      "metadata": {
        "id": "WkoeZvhO6rZU"
      },
      "source": [
        "data.describe()"
      ],
      "execution_count": null,
      "outputs": []
    },
    {
      "cell_type": "code",
      "metadata": {
        "id": "aP0xsLYB6Jjl"
      },
      "source": [
        "data.describe(include='object')"
      ],
      "execution_count": null,
      "outputs": []
    },
    {
      "cell_type": "code",
      "metadata": {
        "id": "mMR5vDcie7wH"
      },
      "source": [
        "len(data)"
      ],
      "execution_count": null,
      "outputs": []
    },
    {
      "cell_type": "code",
      "metadata": {
        "id": "vlEBMYc4fEFr"
      },
      "source": [
        "data.shape"
      ],
      "execution_count": null,
      "outputs": []
    },
    {
      "cell_type": "code",
      "metadata": {
        "id": "IONjnO6fjm_X"
      },
      "source": [
        "data.columns "
      ],
      "execution_count": null,
      "outputs": []
    },
    {
      "cell_type": "code",
      "metadata": {
        "id": "DCabNOF2dWxl"
      },
      "source": [
        "data.isnull().sum()"
      ],
      "execution_count": null,
      "outputs": []
    },
    {
      "cell_type": "code",
      "metadata": {
        "id": "TFunEG0thU5V"
      },
      "source": [
        "(data.isnull().sum()/len(data))"
      ],
      "execution_count": null,
      "outputs": []
    },
    {
      "cell_type": "code",
      "metadata": {
        "colab": {
          "base_uri": "https://localhost:8080/"
        },
        "id": "ThaDbiSDgHP2",
        "outputId": "5b4459e1-ca8d-42be-eed6-ec2130451c64"
      },
      "source": [
        "count=0 \n",
        "for i in data.isnull().sum(axis=1): \n",
        "    if i>0: \n",
        "        count=count+1 \n",
        "print('Total number of rows with missing values is ', count) \n",
        "print('since it',round((count/len(data.index))*100), 'percent of the entire dataset the rows with missing values are excluded.') "
      ],
      "execution_count": 12,
      "outputs": [
        {
          "output_type": "stream",
          "name": "stdout",
          "text": [
            "Total number of rows with missing values is  213363\n",
            "since it 96 percent of the entire dataset the rows with missing values are excluded.\n"
          ]
        }
      ]
    },
    {
      "cell_type": "code",
      "metadata": {
        "id": "PJlQcJDrg9lc"
      },
      "source": [
        "len(data)-count"
      ],
      "execution_count": null,
      "outputs": []
    },
    {
      "cell_type": "code",
      "metadata": {
        "id": "5C45u4Tqgu-k"
      },
      "source": [
        "data.drop(['TIPO','MARCA','LINEA','CLASE','NOMBRE_ESTABLECIMIENTO'],axis=1,inplace=True) # Borramos varias variables del dataframe"
      ],
      "execution_count": 19,
      "outputs": []
    },
    {
      "cell_type": "code",
      "metadata": {
        "id": "pMHhSsvqi1g5"
      },
      "source": [
        "pd.value_counts(data[\"GRUPO\"])"
      ],
      "execution_count": null,
      "outputs": []
    },
    {
      "cell_type": "code",
      "metadata": {
        "id": "0bOO5fBCtMIV"
      },
      "source": [
        "data.sort_values('FECHA_DOCUMENTO',ascending=True,inplace=True)"
      ],
      "execution_count": 37,
      "outputs": []
    },
    {
      "cell_type": "code",
      "metadata": {
        "id": "Rf1MrXa35KYk"
      },
      "source": [
        "# Graficar histogramas\n",
        "def draw_histograms(dataframe, features, rows, cols): \n",
        "    fig=plt.figure(figsize=(20,20)) \n",
        "    for i, feature in enumerate(features): \n",
        "        ax=fig.add_subplot(rows,cols,i+1) \n",
        "        dataframe[feature].hist(bins=20,ax=ax,facecolor='midnightblue') \n",
        "        ax.set_title(feature+\" Distribution\",color='DarkRed') \n",
        "    fig.tight_layout()   \n",
        "    plt.show() \n",
        "draw_histograms(data,data.columns,6,3) "
      ],
      "execution_count": null,
      "outputs": []
    },
    {
      "cell_type": "code",
      "metadata": {
        "colab": {
          "base_uri": "https://localhost:8080/",
          "height": 414
        },
        "id": "oJ4muwKv-pR_",
        "outputId": "d1f5f412-fe18-4952-f6e1-99dc37799da5"
      },
      "source": [
        "data[data['RENTABILIDAD'].isna()]"
      ],
      "execution_count": 44,
      "outputs": [
        {
          "output_type": "execute_result",
          "data": {
            "text/html": [
              "<div>\n",
              "<style scoped>\n",
              "    .dataframe tbody tr th:only-of-type {\n",
              "        vertical-align: middle;\n",
              "    }\n",
              "\n",
              "    .dataframe tbody tr th {\n",
              "        vertical-align: top;\n",
              "    }\n",
              "\n",
              "    .dataframe thead th {\n",
              "        text-align: right;\n",
              "    }\n",
              "</style>\n",
              "<table border=\"1\" class=\"dataframe\">\n",
              "  <thead>\n",
              "    <tr style=\"text-align: right;\">\n",
              "      <th></th>\n",
              "      <th>NOMBRE_DOCUMENTO_MAESTRO</th>\n",
              "      <th>NOMBRE_CONSECUTIVO</th>\n",
              "      <th>TIPO_DOCUMENTO</th>\n",
              "      <th>NUMERO_DOCUMENTO</th>\n",
              "      <th>FECHA_DOCUMENTO</th>\n",
              "      <th>FECHA_VENCIMIENTO</th>\n",
              "      <th>IDENTIFICACION_TERCERO</th>\n",
              "      <th>NOMBRE_TERCERO</th>\n",
              "      <th>ID_CENTRO_COSTO</th>\n",
              "      <th>NOMBRE_CENTRO_COSTO</th>\n",
              "      <th>NOMBRE_CLASIFICACION</th>\n",
              "      <th>ID_PRODUCTO_SERVICIO</th>\n",
              "      <th>PRODUCTO_SERVICIO</th>\n",
              "      <th>CANTIDAD</th>\n",
              "      <th>VALOR_UNITARIO</th>\n",
              "      <th>VALOR_TOTAL</th>\n",
              "      <th>PORCENTAJE_DESCUENTO</th>\n",
              "      <th>VALOR_DESCUENTO</th>\n",
              "      <th>SUBTOTAL</th>\n",
              "      <th>IVA</th>\n",
              "      <th>TOTAL_NETO</th>\n",
              "      <th>UTILIDAD</th>\n",
              "      <th>RENTABILIDAD</th>\n",
              "      <th>COSTO</th>\n",
              "      <th>CEDULA_VENDEDOR</th>\n",
              "      <th>NOMBRE_VENDEDOR</th>\n",
              "      <th>FORMA_DE_PAGO</th>\n",
              "      <th>GRUPO</th>\n",
              "      <th>ID_USUARIO_CREA</th>\n",
              "      <th>USUARIO_CREA</th>\n",
              "      <th>ID_TERCERO</th>\n",
              "      <th>ID_VENDEDOR</th>\n",
              "    </tr>\n",
              "  </thead>\n",
              "  <tbody>\n",
              "    <tr>\n",
              "      <th>45716</th>\n",
              "      <td>NOTA CREDITO</td>\n",
              "      <td>NOTA CREDITO ELECTRONICA VP</td>\n",
              "      <td>NCEVP</td>\n",
              "      <td>972</td>\n",
              "      <td>2020-06-03</td>\n",
              "      <td>2020-06-03</td>\n",
              "      <td>6890502</td>\n",
              "      <td>COMAS COVO ARTURO RAMON</td>\n",
              "      <td>0</td>\n",
              "      <td>VARIOS</td>\n",
              "      <td>GRAVADAS 19</td>\n",
              "      <td>3362</td>\n",
              "      <td>MEGAPACK REGISTRO DUCHA BOLA 1/2\" TREVO X 4</td>\n",
              "      <td>1.0</td>\n",
              "      <td>127395.0</td>\n",
              "      <td>-127395.0</td>\n",
              "      <td>-20.0</td>\n",
              "      <td>-25479.0</td>\n",
              "      <td>-101916.0</td>\n",
              "      <td>-19364.040</td>\n",
              "      <td>-121280.040</td>\n",
              "      <td>NaN</td>\n",
              "      <td>NaN</td>\n",
              "      <td>NaN</td>\n",
              "      <td>73191184.0</td>\n",
              "      <td>MARTINEZ CASTILLA CRISTIAN YESID</td>\n",
              "      <td>CONTADO</td>\n",
              "      <td>1018-MEGAPACK</td>\n",
              "      <td>1067946826</td>\n",
              "      <td>LUIZ MANUEL PEREZ GALVIS</td>\n",
              "      <td>4090</td>\n",
              "      <td>2715</td>\n",
              "    </tr>\n",
              "    <tr>\n",
              "      <th>77356</th>\n",
              "      <td>NOTA CREDITO</td>\n",
              "      <td>NOTA CREDITO ELECTRONICA VP</td>\n",
              "      <td>NCEVP</td>\n",
              "      <td>1610</td>\n",
              "      <td>2020-09-07</td>\n",
              "      <td>2020-09-07</td>\n",
              "      <td>812008463</td>\n",
              "      <td>CASA ELEGANTE LTDA</td>\n",
              "      <td>8003</td>\n",
              "      <td>SV VENTAS</td>\n",
              "      <td>GRAVADAS 19</td>\n",
              "      <td>7055002</td>\n",
              "      <td>ECO PRIM GRIP BALDE X 5 KG</td>\n",
              "      <td>1.0</td>\n",
              "      <td>69950.0</td>\n",
              "      <td>-69950.0</td>\n",
              "      <td>-5.0</td>\n",
              "      <td>-3497.5</td>\n",
              "      <td>-66452.5</td>\n",
              "      <td>-12625.975</td>\n",
              "      <td>-79078.475</td>\n",
              "      <td>NaN</td>\n",
              "      <td>NaN</td>\n",
              "      <td>NaN</td>\n",
              "      <td>6869313.0</td>\n",
              "      <td>ACOSTA SUAREZ EDUARDO</td>\n",
              "      <td>CONTADO</td>\n",
              "      <td>7055-PUENTE DE ADHERENCIA PARA CERÁMICA</td>\n",
              "      <td>1067946826</td>\n",
              "      <td>LUIZ MANUEL PEREZ GALVIS</td>\n",
              "      <td>4083</td>\n",
              "      <td>1856</td>\n",
              "    </tr>\n",
              "    <tr>\n",
              "      <th>88469</th>\n",
              "      <td>NOTA CREDITO</td>\n",
              "      <td>NOTA CREDITO ELECTRONICA VP</td>\n",
              "      <td>NCEVP</td>\n",
              "      <td>1819</td>\n",
              "      <td>2020-10-01</td>\n",
              "      <td>2020-10-01</td>\n",
              "      <td>901324811</td>\n",
              "      <td>CONSORCIO ESCENARIOS DEPORTIVOS 2019</td>\n",
              "      <td>0</td>\n",
              "      <td>VARIOS</td>\n",
              "      <td>GRAVADAS 19</td>\n",
              "      <td>9006076</td>\n",
              "      <td>VALVULA 1 1/2 DESCARGA PARA SANITARIOS</td>\n",
              "      <td>7.0</td>\n",
              "      <td>190700.0</td>\n",
              "      <td>-1334900.0</td>\n",
              "      <td>0.0</td>\n",
              "      <td>0.0</td>\n",
              "      <td>-1334900.0</td>\n",
              "      <td>-253631.000</td>\n",
              "      <td>-1588531.000</td>\n",
              "      <td>NaN</td>\n",
              "      <td>NaN</td>\n",
              "      <td>NaN</td>\n",
              "      <td>6869313.0</td>\n",
              "      <td>ACOSTA SUAREZ EDUARDO</td>\n",
              "      <td>CONTADO</td>\n",
              "      <td>NaN</td>\n",
              "      <td>1067946826</td>\n",
              "      <td>LUIZ MANUEL PEREZ GALVIS</td>\n",
              "      <td>17873</td>\n",
              "      <td>1856</td>\n",
              "    </tr>\n",
              "    <tr>\n",
              "      <th>125137</th>\n",
              "      <td>NOTA CREDITO</td>\n",
              "      <td>NOTA CREDITO ELECTRONICA VP</td>\n",
              "      <td>NCEVP</td>\n",
              "      <td>2540</td>\n",
              "      <td>2020-12-10</td>\n",
              "      <td>2020-12-10</td>\n",
              "      <td>901232082</td>\n",
              "      <td>CONSORCIO ABIEL</td>\n",
              "      <td>8003</td>\n",
              "      <td>SV VENTAS</td>\n",
              "      <td>GRAVADAS 19</td>\n",
              "      <td>3671</td>\n",
              "      <td>PALUSTRE ALBAÑ PHILADEL 9\" M/M</td>\n",
              "      <td>2.0</td>\n",
              "      <td>4598.0</td>\n",
              "      <td>-9196.0</td>\n",
              "      <td>0.0</td>\n",
              "      <td>0.0</td>\n",
              "      <td>-9196.0</td>\n",
              "      <td>-1747.240</td>\n",
              "      <td>-10943.240</td>\n",
              "      <td>NaN</td>\n",
              "      <td>NaN</td>\n",
              "      <td>NaN</td>\n",
              "      <td>6869313.0</td>\n",
              "      <td>ACOSTA SUAREZ EDUARDO</td>\n",
              "      <td>CONTADO</td>\n",
              "      <td>3251-PALUSTRE</td>\n",
              "      <td>1067946826</td>\n",
              "      <td>LUIZ MANUEL PEREZ GALVIS</td>\n",
              "      <td>23843</td>\n",
              "      <td>1856</td>\n",
              "    </tr>\n",
              "  </tbody>\n",
              "</table>\n",
              "</div>"
            ],
            "text/plain": [
              "       NOMBRE_DOCUMENTO_MAESTRO  ... ID_VENDEDOR\n",
              "45716              NOTA CREDITO  ...        2715\n",
              "77356              NOTA CREDITO  ...        1856\n",
              "88469              NOTA CREDITO  ...        1856\n",
              "125137             NOTA CREDITO  ...        1856\n",
              "\n",
              "[4 rows x 32 columns]"
            ]
          },
          "metadata": {},
          "execution_count": 44
        }
      ]
    },
    {
      "cell_type": "code",
      "metadata": {
        "id": "jShb5yq16GUb"
      },
      "source": [
        "data.fillna() "
      ],
      "execution_count": null,
      "outputs": []
    }
  ]
}