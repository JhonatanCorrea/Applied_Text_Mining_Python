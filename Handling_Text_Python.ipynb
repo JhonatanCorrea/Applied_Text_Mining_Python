{
 "metadata": {
  "language_info": {
   "codemirror_mode": {
    "name": "ipython",
    "version": 3
   },
   "file_extension": ".py",
   "mimetype": "text/x-python",
   "name": "python",
   "nbconvert_exporter": "python",
   "pygments_lexer": "ipython3",
   "version": "3.8.3-final"
  },
  "orig_nbformat": 2,
  "kernelspec": {
   "name": "python3",
   "display_name": "Python 3",
   "language": "python"
  }
 },
 "nbformat": 4,
 "nbformat_minor": 2,
 "cells": [
  {
   "source": [
    "### Tokenización Primitiva ###"
   ],
   "cell_type": "markdown",
   "metadata": {}
  },
  {
   "cell_type": "code",
   "execution_count": null,
   "metadata": {},
   "outputs": [],
   "source": [
    "text1=\"La ética está integrada en los ideales y objetivos de las Naciones Unidas\""
   ]
  },
  {
   "cell_type": "code",
   "execution_count": null,
   "metadata": {},
   "outputs": [],
   "source": [
    "len(text1) # Cuantos caracteres hay en la cadena"
   ]
  },
  {
   "cell_type": "code",
   "execution_count": null,
   "metadata": {},
   "outputs": [],
   "source": [
    "text2=text1.split(' ') # En una nueva variable separar cada una de las palabras de la cadena"
   ]
  },
  {
   "cell_type": "code",
   "execution_count": null,
   "metadata": {},
   "outputs": [],
   "source": [
    "print(text2) # imprimimos cada palabra en una lista\n",
    "len(text2) # imprimimos la longitud (Cada separación)"
   ]
  },
  {
   "source": [
    "### Buscar palabras especificas ###"
   ],
   "cell_type": "markdown",
   "metadata": {}
  },
  {
   "cell_type": "code",
   "execution_count": null,
   "metadata": {},
   "outputs": [],
   "source": [
    "[w for w in text2 if len(w) > 3] # Buscar las palabras que tengas más de tres caracteres    "
   ]
  },
  {
   "cell_type": "code",
   "execution_count": null,
   "metadata": {},
   "outputs": [],
   "source": [
    "[w for w in text2 if w.istitle()] # Encontrar palabras que empiecen en Mayúsculas"
   ]
  },
  {
   "cell_type": "code",
   "execution_count": null,
   "metadata": {},
   "outputs": [],
   "source": [
    "print([w for w in text1.split() if w.istitle()]) # Separar las cadena en palabras e imprimir las que empiecen por mayusculas"
   ]
  },
  {
   "cell_type": "code",
   "execution_count": null,
   "metadata": {},
   "outputs": [],
   "source": [
    "[w for w in text2 if w.endswith('s')] # Palabras que terminan con un caracter especifico"
   ]
  },
  {
   "source": [
    "### Averiguar palabras unicas de la lista ###"
   ],
   "cell_type": "markdown",
   "metadata": {}
  },
  {
   "cell_type": "code",
   "execution_count": null,
   "metadata": {},
   "outputs": [],
   "source": [
    "text3=\"To be or no to be\""
   ]
  },
  {
   "cell_type": "code",
   "execution_count": null,
   "metadata": {},
   "outputs": [],
   "source": [
    "text4=text3.split(' ')\n",
    "print(text4)\n",
    "len(text4)"
   ]
  },
  {
   "cell_type": "code",
   "execution_count": null,
   "metadata": {},
   "outputs": [],
   "source": [
    "set(text4) # nos imprime las palabras diferentes de la cadena"
   ]
  },
  {
   "cell_type": "code",
   "execution_count": null,
   "metadata": {},
   "outputs": [],
   "source": [
    "len(set(text4)) # Longitud de las palabras diferentes de la cadena"
   ]
  },
  {
   "cell_type": "code",
   "execution_count": null,
   "metadata": {},
   "outputs": [],
   "source": [
    "# Para no tener problemas entre las mismas palabras que empiezan en mayuscula o minuscula, porque las toma como caracteres diferentes debemos colocar todo en minuscula"
   ]
  },
  {
   "cell_type": "code",
   "execution_count": null,
   "metadata": {},
   "outputs": [],
   "source": [
    "len(set([w.lower() for w in text4])) # Recomendación guardarlo en una nueva variable para que quede guardado"
   ]
  },
  {
   "cell_type": "code",
   "execution_count": null,
   "metadata": {},
   "outputs": [],
   "source": [
    "set([w.lower() for w in text4]) # nos imprime las palabras diferentes de la cadena transformada en minusculas"
   ]
  },
  {
   "source": [
    "### Funciones de Comparación de Palabras ###"
   ],
   "cell_type": "markdown",
   "metadata": {}
  },
  {
   "cell_type": "code",
   "execution_count": null,
   "metadata": {},
   "outputs": [],
   "source": [
    "s.startswith(t) # empieza con ...\n",
    "s.endswith(t) # termina con ...\n",
    "t in s # averiguar las subcadenas, si una cadena en particular esta en una más grande\n",
    "s.isupper() # Palabras que esten en mayusculas\n",
    "s.islower() # Palabras que estan en minusculas\n",
    "s.istitle() # Palabras empiecen por mayusculas\n",
    "s.isalpha() # Palabras que sean alfabetas\n",
    "s.isdigit() # \"palabras\" númericas\n",
    "s.isalnum() # Palabras alfanumericas"
   ]
  },
  {
   "source": [
    "### Operaciones de Strings (Cadenas) ###"
   ],
   "cell_type": "markdown",
   "metadata": {}
  },
  {
   "cell_type": "code",
   "execution_count": null,
   "metadata": {},
   "outputs": [],
   "source": [
    "s.lower() # Convierte la cadena en minusculas\n",
    "s.upper() # Convierte la cadena en Mayusculas\n",
    "s.titlecase # Convertirlas em nompropio\n",
    "s.split(t) # Dividir una frase s en una cadena t más pequeña\n",
    "s.splitlines() # Lineas divididas\n",
    "s.join(t) # es lo opuesto a s.split(t)\n",
    "s.strip() # Eliminará todos los caracteres de espacio en blanco desde el inicio de la cadena\n",
    "s.rstrip() # Eliminara espacios y tabulaciones desde el final de la cadena\n",
    "s.find(t) # Buscara una cadena en particular t en s, desde el inicio\n",
    "s.rfind(t) # Buscara una cadena en particular t en s, desde el final de la cadena\n",
    "s.replace(u,v) # Toma dos parametros, donde cada ocurrencia de u será reemplazada por v"
   ]
  },
  {
   "source": [
    "### De palabaras a Caracteres ###\n"
   ],
   "cell_type": "markdown",
   "metadata": {}
  },
  {
   "cell_type": "code",
   "execution_count": null,
   "metadata": {},
   "outputs": [],
   "source": [
    "text5=\"ouagadougou\""
   ]
  },
  {
   "cell_type": "code",
   "execution_count": null,
   "metadata": {},
   "outputs": [],
   "source": [
    "text6=text5.split(\"ou\") # divide la palabra en 4 partes\n",
    "text6"
   ]
  },
  {
   "cell_type": "code",
   "execution_count": null,
   "metadata": {},
   "outputs": [],
   "source": [
    "'ou'.join(text6) # Hace lo contrario al split"
   ]
  },
  {
   "cell_type": "code",
   "execution_count": null,
   "metadata": {},
   "outputs": [],
   "source": [
    "text5.split('') # Sale un error por que el separador está vacio"
   ]
  },
  {
   "cell_type": "code",
   "execution_count": null,
   "metadata": {},
   "outputs": [],
   "source": [
    "list(text5) # Crea una lista con todos los caracteres de la cadena"
   ]
  },
  {
   "cell_type": "code",
   "execution_count": null,
   "metadata": {},
   "outputs": [],
   "source": [
    "[c for c in text5] # Crea una lista con todos los caracteres de la cadena "
   ]
  },
  {
   "source": [
    "### Limpieza de Texto ###"
   ],
   "cell_type": "markdown",
   "metadata": {}
  },
  {
   "cell_type": "code",
   "execution_count": 1,
   "metadata": {},
   "outputs": [
    {
     "output_type": "execute_result",
     "data": {
      "text/plain": [
       "['',\n",
       " '',\n",
       " '',\n",
       " '',\n",
       " 'A',\n",
       " 'quick',\n",
       " 'brown',\n",
       " 'fox',\n",
       " 'jumped',\n",
       " 'over',\n",
       " 'the',\n",
       " 'lazy',\n",
       " 'dog.',\n",
       " '']"
      ]
     },
     "metadata": {},
     "execution_count": 1
    }
   ],
   "source": [
    "text8='    A quick brown fox jumped over the lazy dog. '\n",
    "text8.split(' ')"
   ]
  },
  {
   "cell_type": "code",
   "execution_count": 2,
   "metadata": {},
   "outputs": [
    {
     "output_type": "execute_result",
     "data": {
      "text/plain": [
       "'A quick brown fox jumped over the lazy dog.'"
      ]
     },
     "metadata": {},
     "execution_count": 2
    }
   ],
   "source": [
    "text9=text8.strip() # Elimina los caracteres de espacio en blanco del principio y del final de la cadena \n",
    "text9"
   ]
  },
  {
   "cell_type": "code",
   "execution_count": 3,
   "metadata": {},
   "outputs": [
    {
     "output_type": "execute_result",
     "data": {
      "text/plain": [
       "['A', 'quick', 'brown', 'fox', 'jumped', 'over', 'the', 'lazy', 'dog.']"
      ]
     },
     "metadata": {},
     "execution_count": 3
    }
   ],
   "source": [
    "text9.split(' ') # Crea una lista de la palabras de la cadena separados por espacio"
   ]
  },
  {
   "source": [
    "### Cambiando Texto ###"
   ],
   "cell_type": "markdown",
   "metadata": {}
  },
  {
   "source": [
    "Buscar y reemplazar"
   ],
   "cell_type": "markdown",
   "metadata": {}
  },
  {
   "cell_type": "code",
   "execution_count": 4,
   "metadata": {},
   "outputs": [
    {
     "output_type": "execute_result",
     "data": {
      "text/plain": [
       "'A quick brown fox jumped over the lazy dog.'"
      ]
     },
     "metadata": {},
     "execution_count": 4
    }
   ],
   "source": [
    "text9"
   ]
  },
  {
   "cell_type": "code",
   "execution_count": 5,
   "metadata": {},
   "outputs": [
    {
     "output_type": "execute_result",
     "data": {
      "text/plain": [
       "10"
      ]
     },
     "metadata": {},
     "execution_count": 5
    }
   ],
   "source": [
    "text9.find('o') # Arroja el desplazamiento de donde encontró el primer caracter"
   ]
  },
  {
   "cell_type": "code",
   "execution_count": 6,
   "metadata": {},
   "outputs": [
    {
     "output_type": "execute_result",
     "data": {
      "text/plain": [
       "40"
      ]
     },
     "metadata": {},
     "execution_count": 6
    }
   ],
   "source": [
    "text9.rfind('o') # Arroja el desplazamiento de donde encontró el primer caracter, de atrás hacia adelante"
   ]
  },
  {
   "cell_type": "code",
   "execution_count": 7,
   "metadata": {},
   "outputs": [
    {
     "output_type": "execute_result",
     "data": {
      "text/plain": [
       "'A quick brOwn fOx jumped Over the lazy dOg.'"
      ]
     },
     "metadata": {},
     "execution_count": 7
    }
   ],
   "source": [
    "text9.replace('o','O') # reemplazar caracteres"
   ]
  },
  {
   "source": [
    "### Manejar Textos más grandes ###\n",
    "\n",
    "Deben ser leidos linea por linea"
   ],
   "cell_type": "markdown",
   "metadata": {}
  },
  {
   "cell_type": "code",
   "execution_count": 9,
   "metadata": {},
   "outputs": [],
   "source": [
    "f = open('UNDHR.txt', 'r') # Leer un archivo linea por linea"
   ]
  },
  {
   "cell_type": "code",
   "execution_count": 11,
   "metadata": {},
   "outputs": [
    {
     "output_type": "execute_result",
     "data": {
      "text/plain": [
       "'Human\\n'"
      ]
     },
     "metadata": {},
     "execution_count": 11
    }
   ],
   "source": [
    "f.readline() # Lee la primera Linea"
   ]
  },
  {
   "cell_type": "code",
   "execution_count": 12,
   "metadata": {},
   "outputs": [
    {
     "output_type": "execute_result",
     "data": {
      "text/plain": [
       "0"
      ]
     },
     "metadata": {},
     "execution_count": 12
    }
   ],
   "source": [
    "f.seek(0) # Reestablecer el punto de lectura del archivo al inicio"
   ]
  },
  {
   "cell_type": "code",
   "execution_count": 13,
   "metadata": {},
   "outputs": [],
   "source": [
    "text12= f.read() # Leer todo el archivo y guardarlo en una variable"
   ]
  },
  {
   "cell_type": "code",
   "execution_count": 16,
   "metadata": {},
   "outputs": [
    {
     "output_type": "stream",
     "name": "stdout",
     "text": [
      "29\nHuman\nRights\nNaciones\nUnidas\n\n"
     ]
    }
   ],
   "source": [
    "print(len(text12)) # imprime la longitud, es decir, el total de caracteres\n",
    "print(text12) # imprimir la lectura del archivo total"
   ]
  },
  {
   "cell_type": "code",
   "execution_count": 18,
   "metadata": {},
   "outputs": [
    {
     "output_type": "execute_result",
     "data": {
      "text/plain": [
       "['Human', 'Rights', 'Naciones', 'Unidas']"
      ]
     },
     "metadata": {},
     "execution_count": 18
    }
   ],
   "source": [
    "text13=text12.splitlines() # divide la cadena en lineas, donde cada componente es una linea del archivo\n",
    "text13"
   ]
  },
  {
   "cell_type": "code",
   "execution_count": 19,
   "metadata": {},
   "outputs": [
    {
     "output_type": "execute_result",
     "data": {
      "text/plain": [
       "4"
      ]
     },
     "metadata": {},
     "execution_count": 19
    }
   ],
   "source": [
    "len(text13) # Me indica la cantidad de lineas tiene el archivo, es final de una linea cunado termina en /n"
   ]
  },
  {
   "cell_type": "code",
   "execution_count": 20,
   "metadata": {},
   "outputs": [
    {
     "output_type": "execute_result",
     "data": {
      "text/plain": [
       "'Human'"
      ]
     },
     "metadata": {},
     "execution_count": 20
    }
   ],
   "source": [
    "text13[0] # imprime el valor que hay en la linea indicada"
   ]
  },
  {
   "source": [
    "### Operaciones de archivos (Files) ###"
   ],
   "cell_type": "markdown",
   "metadata": {}
  },
  {
   "cell_type": "code",
   "execution_count": null,
   "metadata": {},
   "outputs": [],
   "source": [
    "f = open(filename, mode) #Abrir un archivo y su modo (W = Escritura, r = lectura, a = modificar)\n",
    "f.readline() # Lee la primera linea\n",
    "f.read() # lee todo el archivo\n",
    "f.read(n) # Lee n caracteres en lugar del archivo total\n",
    "f.seek() # Reestablecer el punto de lectura\n",
    "f.write(message)\n",
    "f.close() # Cerrar el archivo"
   ]
  },
  {
   "source": [
    "¿Cómo remover el /n que deja el readline?"
   ],
   "cell_type": "markdown",
   "metadata": {}
  },
  {
   "cell_type": "code",
   "execution_count": 29,
   "metadata": {},
   "outputs": [
    {
     "output_type": "execute_result",
     "data": {
      "text/plain": [
       "'Human'"
      ]
     },
     "metadata": {},
     "execution_count": 29
    }
   ],
   "source": [
    "f = open('UNDHR.txt' , 'r')\n",
    "text14 = f.readline()\n",
    "text14.rstrip()"
   ]
  },
  {
   "cell_type": "code",
   "execution_count": null,
   "metadata": {},
   "outputs": [],
   "source": []
  }
 ]
}