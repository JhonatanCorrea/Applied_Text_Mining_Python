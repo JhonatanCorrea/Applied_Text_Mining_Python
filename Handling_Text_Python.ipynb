{
 "metadata": {
  "language_info": {
   "codemirror_mode": {
    "name": "ipython",
    "version": 3
   },
   "file_extension": ".py",
   "mimetype": "text/x-python",
   "name": "python",
   "nbconvert_exporter": "python",
   "pygments_lexer": "ipython3",
   "version": "3.8.3-final"
  },
  "orig_nbformat": 2,
  "kernelspec": {
   "name": "python3",
   "display_name": "Python 3",
   "language": "python"
  }
 },
 "nbformat": 4,
 "nbformat_minor": 2,
 "cells": [
  {
   "source": [
    "### Tokenización Primitiva ###"
   ],
   "cell_type": "markdown",
   "metadata": {}
  },
  {
   "cell_type": "code",
   "execution_count": 1,
   "metadata": {},
   "outputs": [],
   "source": [
    "text1=\"La ética está integrada en los ideales y objetivos de las Naciones Unidas\""
   ]
  },
  {
   "cell_type": "code",
   "execution_count": 2,
   "metadata": {},
   "outputs": [
    {
     "output_type": "execute_result",
     "data": {
      "text/plain": [
       "73"
      ]
     },
     "metadata": {},
     "execution_count": 2
    }
   ],
   "source": [
    "len(text1) # Cuantos caracteres hay en la cadena"
   ]
  },
  {
   "cell_type": "code",
   "execution_count": 3,
   "metadata": {},
   "outputs": [],
   "source": [
    "text2=text1.split(' ') # En una nueva variable separar cada una de las palabras de la cadena"
   ]
  },
  {
   "cell_type": "code",
   "execution_count": 5,
   "metadata": {},
   "outputs": [
    {
     "output_type": "stream",
     "name": "stdout",
     "text": [
      "['La', 'ética', 'está', 'integrada', 'en', 'los', 'ideales', 'y', 'objetivos', 'de', 'las', 'Naciones', 'Unidas']\n"
     ]
    },
    {
     "output_type": "execute_result",
     "data": {
      "text/plain": [
       "13"
      ]
     },
     "metadata": {},
     "execution_count": 5
    }
   ],
   "source": [
    "print(text2) # imprimimos cada palabra en una lista\n",
    "len(text2) # imprimimos la longitud (Cada separación)"
   ]
  },
  {
   "source": [
    "### Buscar palabras especificas ###"
   ],
   "cell_type": "markdown",
   "metadata": {}
  },
  {
   "cell_type": "code",
   "execution_count": 8,
   "metadata": {},
   "outputs": [
    {
     "output_type": "execute_result",
     "data": {
      "text/plain": [
       "['ética', 'está', 'integrada', 'ideales', 'objetivos', 'Naciones', 'Unidas']"
      ]
     },
     "metadata": {},
     "execution_count": 8
    }
   ],
   "source": [
    "[w for w in text2 if len(w) > 3] # Buscar las palabras que tengas más de tres caracteres    "
   ]
  },
  {
   "cell_type": "code",
   "execution_count": 9,
   "metadata": {},
   "outputs": [
    {
     "output_type": "execute_result",
     "data": {
      "text/plain": [
       "['La', 'Naciones', 'Unidas']"
      ]
     },
     "metadata": {},
     "execution_count": 9
    }
   ],
   "source": [
    "[w for w in text2 if w.istitle()] # Encontrar palabras que empiecen en Mayúsculas"
   ]
  },
  {
   "cell_type": "code",
   "execution_count": 11,
   "metadata": {},
   "outputs": [
    {
     "output_type": "stream",
     "name": "stdout",
     "text": [
      "['La', 'Naciones', 'Unidas']\n"
     ]
    }
   ],
   "source": [
    "print([w for w in text1.split() if w.istitle()]) # Separar las cadena en palabras e imprimir las que empiecen por mayusculas"
   ]
  },
  {
   "cell_type": "code",
   "execution_count": 15,
   "metadata": {},
   "outputs": [
    {
     "output_type": "execute_result",
     "data": {
      "text/plain": [
       "['los', 'ideales', 'objetivos', 'las', 'Naciones', 'Unidas']"
      ]
     },
     "metadata": {},
     "execution_count": 15
    }
   ],
   "source": [
    "[w for w in text2 if w.endswith('s')] # Palabras que terminan con un caracter especifico"
   ]
  },
  {
   "source": [
    "### Averiguar palabras unicas de la lista ###"
   ],
   "cell_type": "markdown",
   "metadata": {}
  },
  {
   "cell_type": "code",
   "execution_count": 16,
   "metadata": {},
   "outputs": [],
   "source": [
    "text3=\"To be or no to be\""
   ]
  },
  {
   "cell_type": "code",
   "execution_count": 19,
   "metadata": {},
   "outputs": [
    {
     "output_type": "stream",
     "name": "stdout",
     "text": [
      "['To', 'be', 'or', 'no', 'to', 'be']\n"
     ]
    },
    {
     "output_type": "execute_result",
     "data": {
      "text/plain": [
       "6"
      ]
     },
     "metadata": {},
     "execution_count": 19
    }
   ],
   "source": [
    "text4=text3.split(' ')\n",
    "print(text4)\n",
    "len(text4)"
   ]
  },
  {
   "cell_type": "code",
   "execution_count": 25,
   "metadata": {},
   "outputs": [
    {
     "output_type": "execute_result",
     "data": {
      "text/plain": [
       "{'To', 'be', 'no', 'or', 'to'}"
      ]
     },
     "metadata": {},
     "execution_count": 25
    }
   ],
   "source": [
    "set(text4) # nos imprime las palabras diferentes de la cadena"
   ]
  },
  {
   "cell_type": "code",
   "execution_count": 21,
   "metadata": {},
   "outputs": [
    {
     "output_type": "execute_result",
     "data": {
      "text/plain": [
       "5"
      ]
     },
     "metadata": {},
     "execution_count": 21
    }
   ],
   "source": [
    "len(set(text4)) # Longitud de las palabras diferentes de la cadena"
   ]
  },
  {
   "cell_type": "code",
   "execution_count": null,
   "metadata": {},
   "outputs": [],
   "source": [
    "# Para no tener problemas entre las mismas palabras que empiezan en mayuscula o minuscula, porque las toma como caracteres diferentes debemos colocar todo en minuscula"
   ]
  },
  {
   "cell_type": "code",
   "execution_count": 22,
   "metadata": {},
   "outputs": [
    {
     "output_type": "execute_result",
     "data": {
      "text/plain": [
       "4"
      ]
     },
     "metadata": {},
     "execution_count": 22
    }
   ],
   "source": [
    "len(set([w.lower() for w in text4])) # Recomendación guardarlo en una nueva variable para que quede guardado"
   ]
  },
  {
   "cell_type": "code",
   "execution_count": 24,
   "metadata": {},
   "outputs": [
    {
     "output_type": "execute_result",
     "data": {
      "text/plain": [
       "{'be', 'no', 'or', 'to'}"
      ]
     },
     "metadata": {},
     "execution_count": 24
    }
   ],
   "source": [
    "set([w.lower() for w in text4]) # nos imprime las palabras diferentes de la cadena transformada en minusculas"
   ]
  },
  {
   "source": [
    "### Funciones de Comparación de Palabras ###"
   ],
   "cell_type": "markdown",
   "metadata": {}
  },
  {
   "cell_type": "code",
   "execution_count": null,
   "metadata": {},
   "outputs": [],
   "source": [
    "s.startswith(t) # empieza con ...\n",
    "s.endswith(t) # termina con ...\n",
    "t in s # averiguar las subcadenas, si una cadena en particular esta en una más grande\n",
    "s.isupper() # Palabras que esten en mayusculas\n",
    "s.islower() # Palabras que estan en minusculas\n",
    "s.istitle() # Palabras empiecen por mayusculas\n",
    "s.isalpha() # Palabras que sean alfabetas\n",
    "s.isdigit() # \"palabras\" númericas\n",
    "s.isalnum() # Palabras alfanumericas"
   ]
  },
  {
   "source": [
    "### Operaciones de Strings (Cadenas) ###"
   ],
   "cell_type": "markdown",
   "metadata": {}
  },
  {
   "cell_type": "code",
   "execution_count": null,
   "metadata": {},
   "outputs": [],
   "source": [
    "s.lower() # Convierte la cadena en minusculas\n",
    "s.upper() # Convierte la cadena en Mayusculas\n",
    "s.titlecase # Convertirlas em nompropio\n",
    "s.split(t) # Dividir una frase s en una cadena t más pequeña\n",
    "s.splitlines() # Lineas divididas\n",
    "s.join(t) # es lo opuesto a s.split(t)\n",
    "s.strip() # Eliminará todos los caracteres de espacio en blanco desde el inicio de la cadena\n",
    "s.rstrip() # Eliminara espacios y tabulaciones desde el final de la cadena\n",
    "s.find(t) # Buscara una cadena en particular t en s, desde el inicio\n",
    "s.rfind(t) # Buscara una cadena en particular t en s, desde el final de la cadena\n",
    "s.replace(u,v) # Toma dos parametros, donde cada ocurrencia de u será reemplazada por v"
   ]
  },
  {
   "source": [
    "### Otras Funciones 1 ###\n"
   ],
   "cell_type": "markdown",
   "metadata": {}
  }
 ]
}